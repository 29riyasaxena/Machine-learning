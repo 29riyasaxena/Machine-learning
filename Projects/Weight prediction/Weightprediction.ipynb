### Weight prediction using ML 
import numpy as np 
import pandas as pd 
df=pd.read_csv("data.csv")
df.head()
X=df.iloc[:,:-1].values
y=df.iloc[:,-1].values
from sklearn.model_selection import train_test_split
X_train, X_test, y_train, y_test= train_test_split(X,y,test_size=1/4,random_state=2) 
from sklearn.linear_model import LinearRegression
model=LinearRegression()
model.fit(X_train,y_train)
y_pred=model.predict(X_test)
from sklearn.metrics import r2_score,mean_squared_error
r2 = r2_score(y_pred, y_test)
print('R2 Score = ',r2)
mse=mean_squared_error(y_pred, y_test)
print('Error = ',mse)
