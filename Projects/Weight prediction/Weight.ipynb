{
  "nbformat": 4,
  "nbformat_minor": 0,
  "metadata": {
    "colab": {
      "name": "Weight.ipynb",
      "provenance": []
    },
    "kernelspec": {
      "name": "python3",
      "display_name": "Python 3"
    },
    "language_info": {
      "name": "python"
    }
  },
  "cells": [
    {
      "cell_type": "code",
      "metadata": {
        "colab": {
          "base_uri": "https://localhost:8080/"
        },
        "id": "y6ijTbKGpOPI",
        "outputId": "deaa1391-0bc8-4423-cc37-1642a0cdbb94"
      },
      "source": [
        "### Weight prediction using ML \n",
        "import numpy as np \n",
        "import pandas as pd \n",
        "df=pd.read_csv(\"data.csv\")\n",
        "df.head()\n",
        "X=df.iloc[:,:-1].values\n",
        "y=df.iloc[:,-1].values\n",
        "from sklearn.model_selection import train_test_split\n",
        "X_train, X_test, y_train, y_test= train_test_split(X,y,test_size=1/4,random_state=2) \n",
        "from sklearn.linear_model import LinearRegression\n",
        "model=LinearRegression()\n",
        "model.fit(X_train,y_train)\n",
        "y_pred=model.predict(X_test)\n",
        "from sklearn.metrics import r2_score,mean_squared_error\n",
        "r2 = r2_score(y_pred, y_test)\n",
        "print('R2 Score = ',r2)\n",
        "mse=mean_squared_error(y_pred, y_test)\n",
        "print('Error = ',mse)"
      ],
      "execution_count": null,
      "outputs": [
        {
          "output_type": "stream",
          "name": "stdout",
          "text": [
            "R2 Score =  0.9824693169027355\n",
            "Error =  0.701329615552738\n"
          ]
        }
      ]
    }
  ]
}